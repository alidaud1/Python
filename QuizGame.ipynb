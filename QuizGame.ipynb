{
  "nbformat": 4,
  "nbformat_minor": 0,
  "metadata": {
    "colab": {
      "provenance": [],
      "authorship_tag": "ABX9TyNcVajsxBWVo0+x/+P62MoD"
    },
    "kernelspec": {
      "name": "python3",
      "display_name": "Python 3"
    },
    "language_info": {
      "name": "python"
    }
  },
  "cells": [
    {
      "cell_type": "code",
      "execution_count": null,
      "metadata": {
        "id": "aG8yGQoIsnKK"
      },
      "outputs": [],
      "source": [
        "# Mini Project Quiz Game\n",
        "print(\"Let's test your knowledge!\")\n",
        "play = input(\"Do you want to play a quiz?\")\n",
        "\n",
        "if(play.lower()!=\"yes\"):\n",
        " quit()\n",
        "\n",
        "name = input(\"\\nEnter your name?\")\n",
        "print(\"Hello \"+ name.upper() +\", Let's Play :)\")\n",
        "score = 0\n",
        "\n",
        "answer1 = input(\"\\n1. What color is the sky?\")\n",
        "if (answer1.lower() == \"no color\"):\n",
        " print(\"Correct!\")\n",
        " score = score+1\n",
        "else:\n",
        "  print(\"Incorrect!\")\n",
        "  if(score<=0):\n",
        "    score = 0\n",
        "\n",
        "answer2 = input(\"\\n2.Does smoking is injurious to health?\")\n",
        "if (answer2.lower() == \"yes\"):\n",
        " print(\"Correct!\")\n",
        " score = score+1\n",
        "else:\n",
        "  print(\"Incorrect!\")\n",
        "  if(score<=0):\n",
        "    score = 0\n",
        "\n",
        "answer3 = input(\"\\n3.Land Cruiser is made by?\")\n",
        "if (answer3.lower() == \"toyota\"):\n",
        " print(\"Correct!\")\n",
        " score = score+1\n",
        "else:\n",
        "  print(\"Incorrect!\")\n",
        "  if(score<=0):\n",
        "    score = 0\n",
        "\n",
        "answer4 = input(\"\\n4.Does turbo engines produces more power than naturally aspirated engines?\")\n",
        "if (answer4.lower() == \"yes\"):\n",
        " print(\"Correct!\")\n",
        " score = score+1\n",
        "else:\n",
        "  print(\"Incorrect!\")\n",
        "  if(score<=0):\n",
        "    score = 0\n",
        "\n",
        "if (score==4):\n",
        " print(\"Your score is: \",score)\n",
        " print(\"-----Outstanding-----\")\n",
        "\n",
        "elif(score<4 and score>=2):\n",
        " print(\"Your score is: \",score)\n",
        " print(\"---Good---\")\n",
        "\n",
        "else:\n",
        " print(\"\\nYour score is: \",score)\n",
        " print(\"Better luck next time...\")\n"
      ]
    }
  ]
}