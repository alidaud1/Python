{
  "nbformat": 4,
  "nbformat_minor": 0,
  "metadata": {
    "colab": {
      "name": "Python-Practice-Questions.ipynb",
      "provenance": [],
      "collapsed_sections": [],
      "authorship_tag": "ABX9TyNqS6FSU2LIWL/+fnuEvXTf",
      "include_colab_link": true
    },
    "kernelspec": {
      "name": "python3",
      "display_name": "Python 3"
    },
    "language_info": {
      "name": "python"
    }
  },
  "cells": [
    {
      "cell_type": "markdown",
      "metadata": {
        "id": "view-in-github",
        "colab_type": "text"
      },
      "source": [
        "<a href=\"https://colab.research.google.com/github/alidaud1/Python/blob/main/Python_Practice_Questions.ipynb\" target=\"_parent\"><img src=\"https://colab.research.google.com/assets/colab-badge.svg\" alt=\"Open In Colab\"/></a>"
      ]
    },
    {
      "cell_type": "code",
      "source": [
        "''' 1. Enter three numbers and find largest and smallest '''\n",
        "\n",
        "number1 = int(input('Enter First number : '))\n",
        "number2 = int(input('Enter Second number : '))\n",
        "number3 = int(input('Enter Third number : '))\n",
        "def largest(num1, num2, num3):\n",
        "    if (num1 > num2) and (num1 > num3):\n",
        "        largest_num = num1\n",
        "    elif (num2 > num1) and (num2 > num3):\n",
        "        largest_num = num2\n",
        "    else:\n",
        "        largest_num = num3\n",
        "    print(\"The largest of the 3 numbers is : \", largest_num)\n",
        "def smallest(num1, num2, num3):\n",
        "    if (num1 < num2) and (num1 < num3):\n",
        "        smallest_num = num1\n",
        "    elif (num2 < num1) and (num2 < num3):\n",
        "        smallest_num = num2\n",
        "    else:\n",
        "        smallest_num = num3\n",
        "    print(\"The smallest of the 3 numbers is : \", smallest_num)\n",
        "largest(number1, number2, number3)\n",
        "smallest(number1, number2, number3)"
      ],
      "metadata": {
        "colab": {
          "base_uri": "https://localhost:8080/"
        },
        "id": "gQS2Nm1D_gmx",
        "outputId": "367ae95f-12cc-4c58-e96a-ff6ab777c5c1"
      },
      "execution_count": null,
      "outputs": [
        {
          "output_type": "stream",
          "name": "stdout",
          "text": [
            "Enter First number : 23\n",
            "Enter Second number : 45\n",
            "Enter Third number : 22\n",
            "The largest of the 3 numbers is :  45\n",
            "The smallest of the 3 numbers is :  22\n"
          ]
        }
      ]
    },
    {
      "cell_type": "code",
      "source": [
        "''' 2. Find the given year is leap year or not '''\n",
        "\n",
        "year = int(input(\"Enter a year: \"))\n",
        "\n",
        "if (year % 400 == 0) and (year % 100 == 0):\n",
        "    print(\"{0} is a leap year\".format(year))\n",
        "\n",
        "elif (year % 4 ==0) and (year % 100 != 0):\n",
        "    print(\"{0} is a leap year\".format(year))\n",
        "else:\n",
        "    print(\"{0} is not a leap year\".format(year))"
      ],
      "metadata": {
        "colab": {
          "base_uri": "https://localhost:8080/"
        },
        "id": "y8n5PqsY_wyU",
        "outputId": "16f557a5-3ae7-417e-f645-ae5670045781"
      },
      "execution_count": null,
      "outputs": [
        {
          "output_type": "stream",
          "name": "stdout",
          "text": [
            "Enter a year: 2000\n",
            "2000 is a leap year\n"
          ]
        }
      ]
    },
    {
      "cell_type": "code",
      "execution_count": null,
      "metadata": {
        "colab": {
          "base_uri": "https://localhost:8080/"
        },
        "id": "bi2nKfTd764m",
        "outputId": "70eceb7c-b8ee-4f47-f48d-fb3577eaa464"
      },
      "outputs": [
        {
          "output_type": "stream",
          "name": "stdout",
          "text": [
            "Enter your obtained marks: 90\n",
            "Your marks are  90\n",
            "You have A grade.\n"
          ]
        }
      ],
      "source": [
        "''' 3. Make a grade card using following grade sheet. '''\n",
        "\n",
        "obtained_marks = int(input(\"Enter your obtained marks: \"))\n",
        "print(\"Your marks are \", obtained_marks)\n",
        "if (obtained_marks >= 88 and obtained_marks <= 100):\n",
        "  print(\"You have A grade.\")\n",
        "elif (obtained_marks >= 81 and obtained_marks <= 87):\n",
        "  print(\"You have B+ grade.\")\n",
        "elif (obtained_marks >= 74 and obtained_marks <= 80):\n",
        "  print(\"You have B grade.\")\n",
        "elif (obtained_marks >= 67 and obtained_marks <= 73):\n",
        "  print(\"You have C+ grade.\")\n",
        "elif (obtained_marks >= 60 and obtained_marks <= 66):\n",
        "  print(\"You have C grade.\")\n",
        "elif (obtained_marks < 60):\n",
        "  print(\"Sorry, You have F grade.\")\n",
        "else:\n",
        "  print(\"Invalid\")"
      ]
    },
    {
      "cell_type": "code",
      "source": [
        "''' 4. Take 3 numbers from user and print them in reverse order?\n",
        "      (Without using loop) Example 123 and output 321 '''\n",
        "\n",
        "num = int(input(\"Enter a 3-digit number: \")) \n",
        "num_r = str(num)\n",
        "num_r = num_r[::-1]\n",
        "num = int(num_r)\n",
        "print(\"Reversed of your entered number is \",num)\n"
      ],
      "metadata": {
        "colab": {
          "base_uri": "https://localhost:8080/"
        },
        "id": "du_YDT0C8gsu",
        "outputId": "5c8ac15e-109b-43b7-c177-81e56f748281"
      },
      "execution_count": null,
      "outputs": [
        {
          "output_type": "stream",
          "name": "stdout",
          "text": [
            "Enter a 3-digit number: 153\n",
            "Reversed of your entered number is  351\n"
          ]
        }
      ]
    },
    {
      "cell_type": "code",
      "source": [
        "''' 5. Enter age of person in years and convert in months '''\n",
        "\n",
        "your_Age = int(input(\"Enter your age: \"))\n",
        "months_in_Year = int(12)\n",
        "your_Age_in_Months = int(your_Age * months_in_Year)\n",
        "print(\"Your age is \",your_Age,\" years.\")\n",
        "print(\"Your age in months is \",your_Age_in_Months,\" months.\")\n",
        "\n"
      ],
      "metadata": {
        "colab": {
          "base_uri": "https://localhost:8080/"
        },
        "id": "l1qRY4nG8xYG",
        "outputId": "f7871734-b77b-4a7d-8ae2-39037fec5ef0"
      },
      "execution_count": null,
      "outputs": [
        {
          "output_type": "stream",
          "name": "stdout",
          "text": [
            "Enter your age: 22\n",
            "Your age is  22  years.\n",
            "Your age in months is  264  months.\n"
          ]
        }
      ]
    },
    {
      "cell_type": "code",
      "source": [
        "''' 6. Enter two variable values and swap them without using third variable?\n",
        "       Example a=10, b=20 after swap a=20, b=10'''\n",
        "\n",
        "num_A = int (input(\"Enter the first number: \"))\n",
        "num_B = int (input(\"Enter the second number: \"))\n",
        "print(\"The first number before swap is \",num_A)\n",
        "print(\"The second number before swap is \",num_B)\n",
        "num_A = (num_A + num_B)\n",
        "num_B = (num_A - num_B)\n",
        "num_A = (num_A - num_B)\n",
        "print(\"The first number after swap is: \",num_A)\n",
        "print(\"The Second number after swap is: \",num_B)"
      ],
      "metadata": {
        "colab": {
          "base_uri": "https://localhost:8080/"
        },
        "id": "zwxXy-VK88sO",
        "outputId": "acade623-44a9-4e27-bbb2-a6419ced8cd8"
      },
      "execution_count": null,
      "outputs": [
        {
          "output_type": "stream",
          "name": "stdout",
          "text": [
            "Enter the first number: 1\n",
            "Enter the second number: 5\n",
            "The first number before swap is  1\n",
            "The second number before swap is  5\n",
            "The first number after swap is:  5\n",
            "The Second number after swap is:  1\n"
          ]
        }
      ]
    },
    {
      "cell_type": "code",
      "source": [
        "''' 7.Write a program in which user enters a range then tell even numbers in\n",
        "      this range and at end show smallest and largest value entered by user '''\n",
        "\n",
        "start = int(input(\"Enter the start of range: \"))\n",
        "end = int(input(\"Enter the end of range: \"))\n",
        "for num in range(start, end + 1):\n",
        "\tif num % 2 == 0:\n",
        "\t\tprint(num, end = \" \")\n",
        "print(\"\\nSmallest value entered by user is:\",start)\n",
        "print(\"Largest value entered by user is:\",end)\n"
      ],
      "metadata": {
        "colab": {
          "base_uri": "https://localhost:8080/"
        },
        "id": "aN6sCajN-pmn",
        "outputId": "d7b50a03-dac0-49ca-a94d-b63a424a75dc"
      },
      "execution_count": 5,
      "outputs": [
        {
          "output_type": "stream",
          "name": "stdout",
          "text": [
            "Enter the start of range: 2\n",
            "Enter the end of range: 22\n",
            "2 4 6 8 10 12 14 16 18 20 22 \n",
            "Smallest value entered by user is: 2\n",
            "Largest value entered by user is: 22\n"
          ]
        }
      ]
    },
    {
      "cell_type": "code",
      "source": [
        "'''8. Show prime number from 1 to 50 also counts, how many prime numbers in \n",
        "      mention range and also take product of all prime number '''\n",
        "\n",
        "num_S_range = int(input(\"Enter the starting range number: \"))\n",
        "num_E_range = int(input(\"Enter the ending range number: \"))\n",
        "product = 1\n",
        "count = 0\n",
        "print(\"Prime numbers between\", num_S_range, \"and\", num_E_range, \"are:\")\n",
        "for num in range(num_S_range, num_E_range + 1):\n",
        "   if num > 1:\n",
        "    for i in range(2, num):\n",
        "      if (num % i) == 0:\n",
        "        break\n",
        "    else:\n",
        "     print(num , end=\" \")\n",
        "     count = count+1\n",
        "     product = num*product   \n",
        "print(\"\\nThe total prime numbers between\", num_S_range, \"and\", num_E_range, \"are:\",count)   \n",
        "print(\"The product of prime numbers between\", num_S_range, \"and\", num_E_range, \"are:\",product)"
      ],
      "metadata": {
        "colab": {
          "base_uri": "https://localhost:8080/"
        },
        "id": "znCATIrV9MNm",
        "outputId": "01d88b5e-8b32-42d0-9981-32e8b4dc56cc"
      },
      "execution_count": 9,
      "outputs": [
        {
          "output_type": "stream",
          "name": "stdout",
          "text": [
            "Enter the starting range number: 1\n",
            "Enter the ending range number: 50\n",
            "Prime numbers between 1 and 50 are:\n",
            "2 3 5 7 11 13 17 19 23 29 31 37 41 43 47 \n",
            "The total prime numbers between 1 and 50 are: 15\n",
            "The product of prime numbers between 1 and 50 are: 614889782588491410\n"
          ]
        }
      ]
    }
  ]
}