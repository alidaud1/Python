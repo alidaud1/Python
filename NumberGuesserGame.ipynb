{
  "nbformat": 4,
  "nbformat_minor": 0,
  "metadata": {
    "colab": {
      "provenance": [],
      "authorship_tag": "ABX9TyMh5Anx0dlky74Vfk2Phpc0"
    },
    "kernelspec": {
      "name": "python3",
      "display_name": "Python 3"
    },
    "language_info": {
      "name": "python"
    }
  },
  "cells": [
    {
      "cell_type": "code",
      "execution_count": null,
      "metadata": {
        "id": "uzcb-MiC6QUe",
        "colab": {
          "base_uri": "https://localhost:8080/"
        },
        "outputId": "97a63158-fd82-4202-f305-480881e596c8"
      },
      "outputs": [
        {
          "output_type": "stream",
          "name": "stdout",
          "text": [
            "Enter any positive number: 10\n",
            "\n",
            "Guess a number: 3\n",
            "You were below random number\n",
            "You got it wrong, make a guess again\n",
            "\n",
            "Guess a number: 2\n",
            "You were below random number\n",
            "You got it wrong, make a guess again\n",
            "\n",
            "Guess a number: 1\n",
            "You were below random number\n",
            "You got it wrong, make a guess again\n",
            "\n",
            "Guess a number: 6\n",
            "You were below random number\n",
            "You got it wrong, make a guess again\n",
            "\n",
            "Guess a number: 8\n",
            "You were below random number\n",
            "You got it wrong, make a guess again\n",
            "\n",
            "Guess a number: 9\n",
            "You were below random number\n",
            "You got it!\n",
            "Total guesses =  6\n"
          ]
        }
      ],
      "source": [
        "import random\n",
        "\n",
        "enter_number = int(input(\"Enter any positive number: \"))\n",
        "\n",
        "if(enter_number<=0):\n",
        "   print(\"Please enter number greater than zero next time.\")\n",
        "   quit()\n",
        "\n",
        "else:\n",
        "   random_number = random.randint(1,enter_number)\n",
        "\n",
        "guess_count = 0\n",
        "\n",
        "while(\"true\"):\n",
        "\n",
        " guess_count = guess_count+1\n",
        " user_input = int(input(\"\\nGuess a number: \"))\n",
        "\n",
        " if(user_input<=0):\n",
        "  print(\"Please enter number greater than zero next time.\")\n",
        "  break\n",
        "\n",
        " if(user_input>random_number):\n",
        "  print(\"You were above random number.\")\n",
        " else:\n",
        "  print(\"You were below random number\")\n",
        "\n",
        " if(user_input==random_number):\n",
        "  print(\"You got it!\")\n",
        "  print(\"Total guesses = \",guess_count)\n",
        "  break\n",
        "\n",
        " else:\n",
        "  print(\"You got it wrong, make a guess again\")\n",
        "  continue"
      ]
    }
  ]
}