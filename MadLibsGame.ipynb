{
  "nbformat": 4,
  "nbformat_minor": 0,
  "metadata": {
    "colab": {
      "provenance": [],
      "authorship_tag": "ABX9TyNIfMtC/rMgQg6+igZMS1XE"
    },
    "kernelspec": {
      "name": "python3",
      "display_name": "Python 3"
    },
    "language_info": {
      "name": "python"
    }
  },
  "cells": [
    {
      "cell_type": "code",
      "execution_count": null,
      "metadata": {
        "id": "LR1MUqhByqtc"
      },
      "outputs": [],
      "source": [
        "def matlib_Game():\n",
        " adj = input(\"Adjective: \")\n",
        " verb1 = input(\"Verb: \")\n",
        " verb2 = input(\"Verb: \")\n",
        " famous_person = input(\"Famous Person: \")\n",
        "\n",
        " madlib = print(f\"Computer programming is so {adj}! It makes me so excited all the \\\n",
        "           time because I love to {verb1}. Stay hydrated and {verb2} like \\\n",
        "           you are {famous_person}!\")\n",
        "\n",
        "matlib_Game()"
      ]
    }
  ]
}